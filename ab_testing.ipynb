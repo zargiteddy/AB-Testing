{
 "cells": [
  {
   "cell_type": "markdown",
   "id": "b24334e2-327b-4a41-aa93-3242240958a7",
   "metadata": {},
   "source": [
    "## Data Exploration"
   ]
  },
  {
   "cell_type": "code",
   "execution_count": 46,
   "id": "accd78a7-dc0c-4c9f-bf75-6c1104a731cf",
   "metadata": {},
   "outputs": [],
   "source": [
    "import pandas as pd\n",
    "import numpy as np\n",
    "import seaborn as sns\n",
    "import matplotlib.pyplot as plt\n",
    "from statsmodels.stats.proportion import proportions_ztest"
   ]
  },
  {
   "cell_type": "code",
   "execution_count": 47,
   "id": "b453978e-e6cf-41a4-8054-6d599498e614",
   "metadata": {},
   "outputs": [
    {
     "data": {
      "text/html": [
       "<div>\n",
       "<style scoped>\n",
       "    .dataframe tbody tr th:only-of-type {\n",
       "        vertical-align: middle;\n",
       "    }\n",
       "\n",
       "    .dataframe tbody tr th {\n",
       "        vertical-align: top;\n",
       "    }\n",
       "\n",
       "    .dataframe thead th {\n",
       "        text-align: right;\n",
       "    }\n",
       "</style>\n",
       "<table border=\"1\" class=\"dataframe\">\n",
       "  <thead>\n",
       "    <tr style=\"text-align: right;\">\n",
       "      <th></th>\n",
       "      <th>userid</th>\n",
       "      <th>version</th>\n",
       "      <th>sum_gamerounds</th>\n",
       "      <th>retention_1</th>\n",
       "      <th>retention_7</th>\n",
       "    </tr>\n",
       "  </thead>\n",
       "  <tbody>\n",
       "    <tr>\n",
       "      <th>0</th>\n",
       "      <td>116</td>\n",
       "      <td>gate_30</td>\n",
       "      <td>3</td>\n",
       "      <td>False</td>\n",
       "      <td>False</td>\n",
       "    </tr>\n",
       "    <tr>\n",
       "      <th>1</th>\n",
       "      <td>337</td>\n",
       "      <td>gate_30</td>\n",
       "      <td>38</td>\n",
       "      <td>True</td>\n",
       "      <td>False</td>\n",
       "    </tr>\n",
       "    <tr>\n",
       "      <th>2</th>\n",
       "      <td>377</td>\n",
       "      <td>gate_40</td>\n",
       "      <td>165</td>\n",
       "      <td>True</td>\n",
       "      <td>False</td>\n",
       "    </tr>\n",
       "    <tr>\n",
       "      <th>3</th>\n",
       "      <td>483</td>\n",
       "      <td>gate_40</td>\n",
       "      <td>1</td>\n",
       "      <td>False</td>\n",
       "      <td>False</td>\n",
       "    </tr>\n",
       "    <tr>\n",
       "      <th>4</th>\n",
       "      <td>488</td>\n",
       "      <td>gate_40</td>\n",
       "      <td>179</td>\n",
       "      <td>True</td>\n",
       "      <td>True</td>\n",
       "    </tr>\n",
       "  </tbody>\n",
       "</table>\n",
       "</div>"
      ],
      "text/plain": [
       "   userid  version  sum_gamerounds  retention_1  retention_7\n",
       "0     116  gate_30               3        False        False\n",
       "1     337  gate_30              38         True        False\n",
       "2     377  gate_40             165         True        False\n",
       "3     483  gate_40               1        False        False\n",
       "4     488  gate_40             179         True         True"
      ]
     },
     "execution_count": 47,
     "metadata": {},
     "output_type": "execute_result"
    }
   ],
   "source": [
    "df = pd.read_csv(\"cookie_cats.csv\")\n",
    "df.head()"
   ]
  },
  {
   "cell_type": "code",
   "execution_count": 48,
   "id": "2ff09038-ca3c-4f1f-9fe0-4bacb4ed3e78",
   "metadata": {},
   "outputs": [
    {
     "name": "stdout",
     "output_type": "stream",
     "text": [
      "<class 'pandas.core.frame.DataFrame'>\n",
      "RangeIndex: 90189 entries, 0 to 90188\n",
      "Data columns (total 5 columns):\n",
      " #   Column          Non-Null Count  Dtype \n",
      "---  ------          --------------  ----- \n",
      " 0   userid          90189 non-null  int64 \n",
      " 1   version         90189 non-null  object\n",
      " 2   sum_gamerounds  90189 non-null  int64 \n",
      " 3   retention_1     90189 non-null  bool  \n",
      " 4   retention_7     90189 non-null  bool  \n",
      "dtypes: bool(2), int64(2), object(1)\n",
      "memory usage: 2.2+ MB\n"
     ]
    }
   ],
   "source": [
    "df.info()"
   ]
  },
  {
   "cell_type": "code",
   "execution_count": 49,
   "id": "424957bd-c11b-439b-b6ce-e4c127432d09",
   "metadata": {},
   "outputs": [
    {
     "data": {
      "text/plain": [
       "userid            0\n",
       "version           0\n",
       "sum_gamerounds    0\n",
       "retention_1       0\n",
       "retention_7       0\n",
       "dtype: int64"
      ]
     },
     "execution_count": 49,
     "metadata": {},
     "output_type": "execute_result"
    }
   ],
   "source": [
    "df.isnull().sum()"
   ]
  },
  {
   "cell_type": "markdown",
   "id": "a75a162e-714e-4564-94e6-980b5989361b",
   "metadata": {},
   "source": [
    "## Define Player Categories"
   ]
  },
  {
   "cell_type": "code",
   "execution_count": 50,
   "id": "a71ef62f-28d1-44fe-ac77-76a0d6d70a3a",
   "metadata": {},
   "outputs": [
    {
     "data": {
      "text/plain": [
       "5.0"
      ]
     },
     "execution_count": 50,
     "metadata": {},
     "output_type": "execute_result"
    }
   ],
   "source": [
    "threshold_new = df['sum_gamerounds'].quantile(0.25)\n",
    "threshold_new"
   ]
  },
  {
   "cell_type": "code",
   "execution_count": 51,
   "id": "245c6eac-dbe9-4847-b293-761892d052b8",
   "metadata": {},
   "outputs": [],
   "source": [
    "df['player_experience'] = df['sum_gamerounds'].apply(lambda x: 'New' if x <= threshold_new else 'Experienced')"
   ]
  },
  {
   "cell_type": "code",
   "execution_count": 52,
   "id": "fd1d5ba1-b5cd-4fb7-b9a8-91ca82d163ae",
   "metadata": {},
   "outputs": [
    {
     "data": {
      "text/html": [
       "<div>\n",
       "<style scoped>\n",
       "    .dataframe tbody tr th:only-of-type {\n",
       "        vertical-align: middle;\n",
       "    }\n",
       "\n",
       "    .dataframe tbody tr th {\n",
       "        vertical-align: top;\n",
       "    }\n",
       "\n",
       "    .dataframe thead th {\n",
       "        text-align: right;\n",
       "    }\n",
       "</style>\n",
       "<table border=\"1\" class=\"dataframe\">\n",
       "  <thead>\n",
       "    <tr style=\"text-align: right;\">\n",
       "      <th></th>\n",
       "      <th>userid</th>\n",
       "      <th>version</th>\n",
       "      <th>sum_gamerounds</th>\n",
       "      <th>retention_1</th>\n",
       "      <th>retention_7</th>\n",
       "      <th>player_experience</th>\n",
       "    </tr>\n",
       "  </thead>\n",
       "  <tbody>\n",
       "    <tr>\n",
       "      <th>0</th>\n",
       "      <td>116</td>\n",
       "      <td>gate_30</td>\n",
       "      <td>3</td>\n",
       "      <td>False</td>\n",
       "      <td>False</td>\n",
       "      <td>New</td>\n",
       "    </tr>\n",
       "    <tr>\n",
       "      <th>1</th>\n",
       "      <td>337</td>\n",
       "      <td>gate_30</td>\n",
       "      <td>38</td>\n",
       "      <td>True</td>\n",
       "      <td>False</td>\n",
       "      <td>Experienced</td>\n",
       "    </tr>\n",
       "    <tr>\n",
       "      <th>2</th>\n",
       "      <td>377</td>\n",
       "      <td>gate_40</td>\n",
       "      <td>165</td>\n",
       "      <td>True</td>\n",
       "      <td>False</td>\n",
       "      <td>Experienced</td>\n",
       "    </tr>\n",
       "    <tr>\n",
       "      <th>3</th>\n",
       "      <td>483</td>\n",
       "      <td>gate_40</td>\n",
       "      <td>1</td>\n",
       "      <td>False</td>\n",
       "      <td>False</td>\n",
       "      <td>New</td>\n",
       "    </tr>\n",
       "    <tr>\n",
       "      <th>4</th>\n",
       "      <td>488</td>\n",
       "      <td>gate_40</td>\n",
       "      <td>179</td>\n",
       "      <td>True</td>\n",
       "      <td>True</td>\n",
       "      <td>Experienced</td>\n",
       "    </tr>\n",
       "  </tbody>\n",
       "</table>\n",
       "</div>"
      ],
      "text/plain": [
       "   userid  version  sum_gamerounds  retention_1  retention_7 player_experience\n",
       "0     116  gate_30               3        False        False               New\n",
       "1     337  gate_30              38         True        False       Experienced\n",
       "2     377  gate_40             165         True        False       Experienced\n",
       "3     483  gate_40               1        False        False               New\n",
       "4     488  gate_40             179         True         True       Experienced"
      ]
     },
     "execution_count": 52,
     "metadata": {},
     "output_type": "execute_result"
    }
   ],
   "source": [
    "df.head()"
   ]
  },
  {
   "cell_type": "markdown",
   "id": "e96586e0-23ec-4d6d-a530-99e56bc5ec10",
   "metadata": {},
   "source": [
    "## Split the Data"
   ]
  },
  {
   "cell_type": "code",
   "execution_count": 53,
   "id": "286f1293-b2d5-4b22-abdc-db3e75d090ec",
   "metadata": {},
   "outputs": [],
   "source": [
    "new_players = df[df['player_experience']=='New']\n",
    "experienced_players = df[df['player_experience']=='Experienced']"
   ]
  },
  {
   "cell_type": "markdown",
   "id": "2344857a-c46a-4921-80e3-9ac8f79a291b",
   "metadata": {},
   "source": [
    "## Perform A/B Testing"
   ]
  },
  {
   "cell_type": "markdown",
   "id": "65092485-4d91-48a3-b34f-b9e1d1732d13",
   "metadata": {},
   "source": [
    "### New Players"
   ]
  },
  {
   "cell_type": "code",
   "execution_count": 54,
   "id": "d0f181ca-eb2c-479e-b70d-87d63211b710",
   "metadata": {},
   "outputs": [
    {
     "name": "stdout",
     "output_type": "stream",
     "text": [
      "New Players (Day 1) Z-Test: p-value = 0.03680478088374052 (Significant difference between gate_30 and gate_40)\n",
      "New Players (Day 7) Z-Test: p-value = 0.518804091696032 (No significant difference between gate_30 and gate_40)\n"
     ]
    }
   ],
   "source": [
    "# Split new players into control and test groups\n",
    "new_control = new_players[new_players['version']=='gate_30']\n",
    "new_test = new_players[new_players['version']=='gate_40']\n",
    "\n",
    "# Calculate counts for retention\n",
    "new_count_1 = [new_control['retention_1'].sum(), new_test['retention_1'].sum()]\n",
    "new_count_7 = [new_control['retention_7'].sum(), new_test['retention_7'].sum()]\n",
    "\n",
    "# Calculate the total number of observations\n",
    "new_nobs = [len(new_control), len(new_test)]\n",
    "\n",
    "# Perform Z-Test for Proportions\n",
    "new_stat_1, new_pval_1 = proportions_ztest(new_count_1, new_nobs)   \n",
    "new_stat_7, new_pval_7 = proportions_ztest(new_count_7, new_nobs)\n",
    "\n",
    "# Interpret the P-Values\n",
    "alpha = 0.05\n",
    "if new_pval_1 < alpha:\n",
    "    print(f\"New Players (Day 1) Z-Test: p-value = {new_pval_1} (Significant difference between gate_30 and gate_40)\")\n",
    "else:\n",
    "    print(f\"New Players (Day 1) Z-Test: p-value = {new_pval_1} (No significant difference between gate_30 and gate_40)\")\n",
    "    \n",
    "if new_pval_7 < alpha:\n",
    "    print(f\"New Players (Day 7) Z-Test: p-value = {new_pval_7} (Significant difference between gate_30 and gate_40)\")\n",
    "else:\n",
    "    print(f\"New Players (Day 7) Z-Test: p-value = {new_pval_7} (No significant difference between gate_30 and gate_40)\")"
   ]
  },
  {
   "cell_type": "markdown",
   "id": "58aeb58c-b363-40dd-ad1f-0704125b1549",
   "metadata": {},
   "source": [
    "### Experienced Players"
   ]
  },
  {
   "cell_type": "code",
   "execution_count": 55,
   "id": "761362ce-4310-4702-93a0-465de6861161",
   "metadata": {},
   "outputs": [
    {
     "name": "stdout",
     "output_type": "stream",
     "text": [
      "Experienced Players (Day 1) Z-Test: p-value = 0.2428595397580815 (No significant difference between gate_30 and gate_40)\n",
      "Experienced Players (Day 7) Z-Test: p-value = 0.009414437422179548 (Significant difference between gate_30 and gate_40)\n"
     ]
    }
   ],
   "source": [
    "# Split experienced players into control and test groups\n",
    "exp_control = experienced_players[experienced_players['version']=='gate_30']\n",
    "exp_test = experienced_players[experienced_players['version']=='gate_40']\n",
    "\n",
    "# Calculate counts for retention\n",
    "exp_count_1 = [exp_control['retention_1'].sum(), exp_test['retention_1'].sum()]\n",
    "exp_count_7 = [exp_control['retention_7'].sum(), exp_test['retention_7'].sum()]\n",
    "\n",
    "# Calculate the total number of observations\n",
    "exp_nobs = [len(exp_control), len(exp_test)]\n",
    "\n",
    "# Perform Z-Test for Proportions\n",
    "exp_stat_1, exp_pval_1 = proportions_ztest(exp_count_1, exp_nobs)   \n",
    "exp_stat_7, exp_pval_7 = proportions_ztest(exp_count_7, exp_nobs)\n",
    "\n",
    "# Interpret the P-Values\n",
    "alpha = 0.05\n",
    "if exp_pval_1 < alpha:\n",
    "    print(f\"Experienced Players (Day 1) Z-Test: p-value = {exp_pval_1} (Significant difference between gate_30 and gate_40)\")\n",
    "else:\n",
    "    print(f\"Experienced Players (Day 1) Z-Test: p-value = {exp_pval_1} (No significant difference between gate_30 and gate_40)\")\n",
    "    \n",
    "if exp_pval_7 < alpha:\n",
    "    print(f\"Experienced Players (Day 7) Z-Test: p-value = {exp_pval_7} (Significant difference between gate_30 and gate_40)\")\n",
    "else:\n",
    "    print(f\"Experienced Players (Day 7) Z-Test: p-value = {exp_pval_7} (No significant difference between gate_30 and gate_40)\")"
   ]
  },
  {
   "cell_type": "markdown",
   "id": "d0aca09c-c5a2-424d-b64c-8703230bb858",
   "metadata": {},
   "source": [
    "## Calculate Effect Sizes"
   ]
  },
  {
   "cell_type": "code",
   "execution_count": 56,
   "id": "48d373cf-25c3-4a46-864b-d54a5a8433e9",
   "metadata": {},
   "outputs": [
    {
     "name": "stdout",
     "output_type": "stream",
     "text": [
      "New Players Retention Rates:\n",
      "         retention_1  retention_7\n",
      "version                          \n",
      "gate_30     0.064781     0.012193\n",
      "gate_40     0.071479     0.013111\n"
     ]
    }
   ],
   "source": [
    "# Retention rates for new players\n",
    "new_group_summary = new_players.groupby('version')[['retention_1', 'retention_7']].mean()\n",
    "print(\"New Players Retention Rates:\")\n",
    "print(new_group_summary)"
   ]
  },
  {
   "cell_type": "code",
   "execution_count": 57,
   "id": "31373abf-55e7-4ce8-8106-6db8609e5561",
   "metadata": {},
   "outputs": [
    {
     "data": {
      "image/png": "[encoded data removed]",
      "text/plain": [
       "<Figure size 800x600 with 1 Axes>"
      ]
     },
     "metadata": {},
     "output_type": "display_data"
    }
   ],
   "source": [
    "# Convert boolean values to 1 (True) and 0 (False) for retention calculations\n",
    "df['retention_1'] = df['retention_1'].astype(int)\n",
    "\n",
    "# Calculate the summary\n",
    "new_group_summary = new_players.groupby('version')[['retention_1', 'retention_7']].mean()\n",
    "\n",
    "# Plot the data\n",
    "new_group_summary.plot(kind='bar', figsize=(8,6), title='New Players Retention Rates', color=['skyblue', 'orange'])   \n",
    "\n",
    "# Customize the plot\n",
    "plt.ylabel(\"Retention Rate\")\n",
    "plt.xlabel(\"Version\")\n",
    "plt.xticks(rotation=0)  # To keep the x-axis labels horizontal\n",
    "plt.legend(title=\"Retention Period\", labels=[\"Day 1\", \"Day 7\"])\n",
    "\n",
    "plt.savefig(\"New_Retention_Rates.png\", transparent=True)\n",
    "plt.show()"
   ]
  },
  {
   "cell_type": "code",
   "execution_count": 58,
   "id": "fbccd858-8ae5-4181-a878-a2cd8ac66b55",
   "metadata": {},
   "outputs": [
    {
     "name": "stdout",
     "output_type": "stream",
     "text": [
      "\n",
      "Experienced Players Retention Rates:\n",
      "         retention_1  retention_7\n",
      "version                          \n",
      "gate_30     0.589787     0.255943\n",
      "gate_40     0.585293     0.247137\n"
     ]
    }
   ],
   "source": [
    "# Retention rates for experienced players\n",
    "exp_group_summary = experienced_players.groupby('version')[['retention_1', 'retention_7']].mean()\n",
    "print(\"\\nExperienced Players Retention Rates:\")\n",
    "print(exp_group_summary)"
   ]
  },
  {
   "cell_type": "code",
   "execution_count": 59,
   "id": "72858d33-4220-4b30-ba29-f3f228838bcd",
   "metadata": {},
   "outputs": [
    {
     "data": {
      "image/png": "[encoded data removed]",
      "text/plain": [
       "<Figure size 800x600 with 1 Axes>"
      ]
     },
     "metadata": {},
     "output_type": "display_data"
    }
   ],
   "source": [
    "# Convert boolean values to 1 (True) and 0 (False) for retention calculations\n",
    "df['retention_1'] = df['retention_1'].astype(int)\n",
    "df['retention_7'] = df['retention_7'].astype(int)\n",
    "\n",
    "# Calculate the summary\n",
    "exp_group_summary = experienced_players.groupby('version')[['retention_1', 'retention_7']].mean()\n",
    "\n",
    "# Plot the data\n",
    "exp_group_summary.plot(kind='bar', figsize=(8,6), title='Experienced Players Retention Rates', color=['skyblue', 'orange']) \n",
    "\n",
    "# Customize the plot\n",
    "plt.ylabel(\"Retention Rate\")\n",
    "plt.xlabel(\"Version\")\n",
    "plt.xticks(rotation=0)  # To keep the x-axis labels horizontal\n",
    "plt.legend(title=\"Retention Period\", labels=[\"Day 1\", \"Day 7\"])\n",
    "\n",
    "plt.savefig(\"Experienced_Retention_Rates.png\", transparent=True)\n",
    "plt.show()"
   ]
  },
  {
   "cell_type": "code",
   "execution_count": 60,
   "id": "5ce9606c-b3ef-45fa-99da-7fde2a024aaf",
   "metadata": {},
   "outputs": [
    {
     "name": "stdout",
     "output_type": "stream",
     "text": [
      "New Players Uplift (Day 1): 10.34%\n",
      "New Players Uplift (Day 7): 7.53%\n",
      "Experienced Players Uplift (Day 1): -0.76%\n",
      "Experienced Players Uplift (Day 7): -3.44%\n"
     ]
    }
   ],
   "source": [
    "# New players' uplift\n",
    "uplift_1_new = (new_test['retention_1'].mean() - new_control['retention_1'].mean()) / new_control['retention_1'].mean()\n",
    "uplift_7_new = (new_test['retention_7'].mean() - new_control['retention_7'].mean()) / new_control['retention_7'].mean()\n",
    "\n",
    "# Experienced players' uplift\n",
    "uplift_1_exp = (exp_test['retention_1'].mean() - exp_control['retention_1'].mean()) / exp_control['retention_1'].mean()\n",
    "uplift_7_exp = (exp_test['retention_7'].mean() - exp_control['retention_7'].mean()) / exp_control['retention_7'].mean()\n",
    "\n",
    "# Print uplift percentages\n",
    "print(f\"New Players Uplift (Day 1): {uplift_1_new * 100:.2f}%\")\n",
    "print(f\"New Players Uplift (Day 7): {uplift_7_new * 100:.2f}%\")\n",
    "print(f\"Experienced Players Uplift (Day 1): {uplift_1_exp * 100:.2f}%\")\n",
    "print(f\"Experienced Players Uplift (Day 7): {uplift_7_exp * 100:.2f}%\")"
   ]
  },
  {
   "cell_type": "code",
   "execution_count": 61,
   "id": "81daf68c-ac01-46f3-9dbe-0c374f95b8a6",
   "metadata": {},
   "outputs": [
    {
     "data": {
      "image/png": "[encoded data removed]",
      "text/plain": [
       "<Figure size 800x600 with 1 Axes>"
      ]
     },
     "metadata": {},
     "output_type": "display_data"
    }
   ],
   "source": [
    "uplift_data = {\n",
    "    'Group': ['New Players', 'New Players', 'Experienced Players', 'Experienced Players'],\n",
    "    'Day': ['Day 1', 'Day 7', 'Day 1', 'Day 7'],\n",
    "    'Uplift (%)': [10.34, 7.53, -0.76, -3.44]\n",
    "}\n",
    "\n",
    "df_uplift = pd.DataFrame(uplift_data)\n",
    "\n",
    "# Plot\n",
    "plt.figure(figsize=(8, 6))\n",
    "sns.barplot(data=df_uplift, x='Day', y='Uplift (%)', hue='Group')\n",
    "plt.axhline(0, color='gray', linestyle='--')\n",
    "plt.title(\"Uplift Comparison\")\n",
    "plt.ylabel(\"Uplift (%)\")\n",
    "plt.xlabel(\"\")\n",
    "plt.savefig(\"uplift.png\", transparent=True)\n",
    "plt.show()"
   ]
  },
  {
   "cell_type": "code",
   "execution_count": null,
   "id": "14a76b4f-f930-4fb6-8fa4-2e51126ec5a5",
   "metadata": {},
   "outputs": [],
   "source": []
  }
 ],
 "metadata": {
  "kernelspec": {
   "display_name": "conda_1",
   "language": "python",
   "name": "conda_1"
  },
  "language_info": {
   "codemirror_mode": {
    "name": "ipython",
    "version": 3
   },
   "file_extension": ".py",
   "mimetype": "text/x-python",
   "name": "python",
   "nbconvert_exporter": "python",
   "pygments_lexer": "ipython3",
   "version": "3.12.2"
  }
 },
 "nbformat": 4,
 "nbformat_minor": 5
}
